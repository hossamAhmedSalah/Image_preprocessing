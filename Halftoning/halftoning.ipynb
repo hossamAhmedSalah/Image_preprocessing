{
 "cells": [
  {
   "cell_type": "markdown",
   "metadata": {},
   "source": [
    "Table of content \n",
    "- [Introduction](#1)\n",
    "- [The Halftoning Algorithm](#2)\n",
    "  "
   ]
  },
  {
   "cell_type": "markdown",
   "metadata": {},
   "source": [
    "<h1 style=\"color:salmon\" id=\"1\">Introuduction</h1>\n",
    "\n",
    "-  Black and white printers put gray shade images on paper via the presence or absence of black ink on paper.\n",
    "-  Printers do not contain ink with varying shades of gray.\n",
    "-  These black and white output devices create the <span style=\"color:red\">**illusion of shades of gray via haltoning.**</span>\n",
    "-  Halftoning : converts an image of gray scale $\\rarr$ to an image containing 0s and 1s only.\n",
    "   -  halftoning breaks down an image into a grid of dots. \n",
    "   -  The human eye blends these dots to perceive a continuous image with gradients and shades\n",
    "      -  even though it’s actually composed of discrete dots.\n",
    "-  Dots that make optical illusion of shades and gradients, these dots may vary in the size.\n",
    "- Applications \n",
    "  - Print Media 🖨️ \n",
    "  - Digital Displays (e-ink)\n",
    ">Halftoning is essential for reproducing images where continuous tone is impossible, and it provides a balance between quality and resource efficiency, especially in printing.\n",
    "\n",
    ">halftone process reduces visual reproductions to an image that is printed with only one color of ink, in dots of differing size (pulse-width modulation) or spacing (frequency modulation) or both."
   ]
  },
  {
   "cell_type": "markdown",
   "metadata": {},
   "source": [
    "<h1 style=\"color:salmon\" id=\"2\">The Halftoning Algorithm</h1>\n",
    "\n",
    "- The basis of the halftoning algorithm is an **Error Diffusion Technique** \n",
    "- When the error reach a certin value, turn a pixel on and reset the error.\n",
    "- if the error not great enough leave the pixel truned off.\n",
    "- Error resulting from approximating a gray shade image with only ones and zeros.\n",
    "  \n",
    "```  \n",
    "1. For each pixel in the image (left to right, top to bottom):\n",
    "    a. Calculate the \"old_pixel\" value (current grayscale value of the pixel, between 0 and 255).\n",
    "    b. Determine the \"new_pixel\" value by setting it to either black (0) or white (255):\n",
    "       - If old_pixel >= 128, set new_pixel to 255 (white).\n",
    "       - Otherwise, set new_pixel to 0 (black).\n",
    "       \n",
    "    c. Calculate the \"quantization error\":\n",
    "       - error = old_pixel - new_pixel\n",
    "\n",
    "    d. Diffuse the error to neighboring pixels that haven’t been processed yet:\n",
    "       - Distribute the error to adjacent pixels using Floyd-Steinberg weights:\n",
    "         - Pixel to the right: image[x + 1][y]   += error * 7/16\n",
    "         - Pixel to the bottom-left: image[x - 1][y + 1] += error * 3/16\n",
    "         - Pixel directly below: image[x][y + 1] += error * 5/16\n",
    "         - Pixel to the bottom-right: image[x + 1][y + 1] += error * 1/16\n",
    "\n",
    "2. Repeat for all pixels in the image.\n",
    "```\n",
    "\n"
   ]
  }
 ],
 "metadata": {
  "language_info": {
   "name": "python"
  }
 },
 "nbformat": 4,
 "nbformat_minor": 2
}
