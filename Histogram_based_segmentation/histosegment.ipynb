{
 "cells": [
  {
   "cell_type": "markdown",
   "metadata": {},
   "source": [
    "Table of content \n",
    "\n",
    "- [introduction](#1)"
   ]
  },
  {
   "cell_type": "markdown",
   "metadata": {},
   "source": [
    "<h1 style=\"color:salmon\" id=\"1\">Introuduction</h1>\n",
    "\n",
    "- Image segmentation is the process of dividing an image into regions or objects. \n",
    "- It is the rst step in the task of image analysis.\n",
    "  - Image processing displays images and alters them to make them look \"better\".\n",
    "  - Image analysis tries to discover what is in the image.\n",
    "- Group individual pixels together into regions if they are similar.\n",
    "  - Same intensity.\n",
    "- "
   ]
  }
 ],
 "metadata": {
  "kernelspec": {
   "display_name": "testEnv",
   "language": "python",
   "name": "python3"
  },
  "language_info": {
   "name": "python",
   "version": "3.11.4"
  }
 },
 "nbformat": 4,
 "nbformat_minor": 2
}
