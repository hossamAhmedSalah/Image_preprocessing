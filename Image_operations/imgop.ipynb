{
 "cells": [
  {
   "cell_type": "markdown",
   "metadata": {},
   "source": [
    "Table of content \n",
    "\n",
    "- [introduction](#1)"
   ]
  },
  {
   "cell_type": "markdown",
   "metadata": {},
   "source": [
    "<h1 style=\"color:salmon\" id=\"1\">Introuduction</h1>\n",
    "\n",
    "- Introduces several basic image operations.\n",
    "  - adding, subtracting, cutting and pasting parts of images.\n",
    "- Addition and Subtraction\n",
    "  - pixels are added.\n",
    "  - If the sum is greater than the maximum pixel value\n",
    "    - the new pixel would be the maximum value, if it below the 0 it would be zero.\n",
    "- Image addition and subtraction can place objects into and remove objects from images.\n",
    "- Cut and Paste \n",
    "  - They allow cutting rectangular areas from one image and pasting them into another. \n",
    "- Image Scaling\n",
    "- Blank Images\n",
    "- Inverting Images\n",
    "  - Inverts the pixels by subtracting them from the number of gray shades. \n",
    "    - (0 becomes 255, 1 becomes 254, etc.)\n",
    "    - "
   ]
  }
 ],
 "metadata": {
  "kernelspec": {
   "display_name": "testEnv",
   "language": "python",
   "name": "python3"
  },
  "language_info": {
   "name": "python",
   "version": "3.11.4"
  }
 },
 "nbformat": 4,
 "nbformat_minor": 2
}
