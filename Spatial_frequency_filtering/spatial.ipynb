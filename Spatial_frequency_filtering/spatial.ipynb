{
 "cells": [
  {
   "cell_type": "markdown",
   "metadata": {},
   "source": [
    "Table of content \n",
    "\n",
    "- [introduction](#1)"
   ]
  },
  {
   "cell_type": "markdown",
   "metadata": {},
   "source": [
    "<h1 style=\"color:salmon\" id=\"1\">Introuduction</h1>\n",
    "\n",
    "- Images are 2D functions $f(x,y)$ in spatial coordinates $(x,y)$ in an image plane.\n",
    "-  Each function describes how colous or gray values (intensities, or brightness) vary in space.\n",
    "-  An alternative image representation is based on spatial frequencies of gray value or color variations over the image plane.\n",
    "-  spatial frequency is a characteristic of any structure that is periodic across position in space. \n",
    "-  The spatial frequency is a measure of how often sinusoidal components (as determined by the Fourier transform) of the structure repeat per unit of distance.\n",
    "\n",
    "## Filters\n",
    "\n",
    "- High-pass filters pass high frequencies and stop low frequencies. \n",
    "  - Amplify or pass frequent changes in gray levels.\n",
    "  - Enhance the edge.\n",
    "- Low-pass filters stop high frequencies and pass low frequencies.\n",
    "  - Reduce frequent changes in gray levels.    \n",
    "  - Remove the edge (gradual slope between the two levels).\n",
    "- Applications \n",
    "  - noise removal, smoothing, and edge enhancement.\n",
    "  - Low-pass filter remove the noise:   \n",
    "    - Snow \n",
    "    - Spikes\n",
    "  - Multiplication in the frequency domain corresponds to convolution in the time and the spatial domain.\n",
    "  - Using a small convolution is much faster than performing Fourier and multiplication.\n",
    "\n",
    "## Low-Pass filters\n",
    "- Convolovin an image with constant gay level using low-pass filters, won't change the image.\n",
    "  - No high spatial frequencies. \n",
    "- Median filter \n",
    "  - Special type of low-pass filters.\n",
    "  - Take `n×n` area of pixels and replace the center with the median.\n",
    "  - Doesn't require convolution actually it's non-linear filter.\n",
    "  - It require sorting the pixels.\n",
    "  - Easy to change the filter size.\n",
    "  - Median filters remove noise.\n",
    "  - Beyond 5*5, slows down.\n",
    "## High-pass filters\n",
    "- sharpen thee edges.\n",
    "\n",
    "| Aspect               | Low-Pass Filter                           | High-Pass Filter                             |\n",
    "|----------------------|-------------------------------------------|----------------------------------------------|\n",
    "| **Frequency Target** | Allows low frequencies                    | Allows high frequencies                      |\n",
    "| **Effect on Image**  | Smoothing and blurring                    | Sharpening and edge enhancement              |\n",
    "| **Detail Level**     | Reduces fine details                      | Enhances fine details                        |\n",
    "| **Applications**     | Noise reduction, anti-aliasing            | Edge detection, feature extraction           |\n",
    "| **Common Examples**  | Gaussian blur, Mean filter, Box filter    | Sobel filter, Laplacian filter, High-pass kernel |\n",
    "| **Resulting Visual** | Smooth, less detailed image               | Sharper, more detailed image                 |\n",
    "\n",
    "<br>\n",
    "\n",
    "| Aspect               | Linear Filters                                      | Non-Linear Filters                               |\n",
    "|----------------------|-----------------------------------------------------|--------------------------------------------------|\n",
    "| **Definition**       | Apply a linear transformation to pixel values       | Apply a non-linear transformation to pixel values |\n",
    "| **Operation Type**   | Weighted sum of neighboring pixels                  | Non-linear functions (e.g., median, max) on pixel neighborhood |\n",
    "| **Effect on Image**  | Smooth, blur, or sharpen image                      | Reduce noise, preserve edges                     |\n",
    "| **Preservation of Details** | Often blurs edges                           | Better edge preservation                         |\n",
    "| **Common Examples**  | Gaussian blur, Mean filter, Laplacian filter        | Median filter, Bilateral filter                  |\n",
    "| **Applications**     | Smoothing, sharpening, edge detection               | Noise reduction, edge preservation               |\n",
    "| **Computational Complexity** | Generally lower                            | Can be computationally more intensive            |\n",
    "| **Response to Outliers** | Sensitive to noise and outliers                | Robust against noise and outliers                |\n"
   ]
  }
 ],
 "metadata": {
  "kernelspec": {
   "display_name": "testEnv",
   "language": "python",
   "name": "python3"
  },
  "language_info": {
   "name": "python",
   "version": "3.11.4"
  }
 },
 "nbformat": 4,
 "nbformat_minor": 2
}
